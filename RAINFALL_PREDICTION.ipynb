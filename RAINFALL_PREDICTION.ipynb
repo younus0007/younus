{
  "cells": [
    {
      "cell_type": "markdown",
      "metadata": {
        "id": "view-in-github",
        "colab_type": "text"
      },
      "source": [
        "<a href=\"https://colab.research.google.com/github/DEEPIKA-006/AIML-PREDICTION-PROJECT/blob/main/RAINFALL_PREDICTION.ipynb\" target=\"_parent\"><img src=\"https://colab.research.google.com/assets/colab-badge.svg\" alt=\"Open In Colab\"/></a>"
      ]
    },
    {
      "cell_type": "markdown",
      "source": [
        "#Importing Libraries"
      ],
      "metadata": {
        "id": "bBRynADX3gz_"
      }
    },
    {
      "cell_type": "code",
      "execution_count": 7,
      "metadata": {
        "id": "zwFnJsE6vjf8"
      },
      "outputs": [],
      "source": [
        "import numpy as np\n",
        "import pandas as pd"
      ]
    },
    {
      "cell_type": "markdown",
      "source": [
        "#Importing Dataset"
      ],
      "metadata": {
        "id": "ix_G0QqB3nZy"
      }
    },
    {
      "cell_type": "code",
      "source": [
        "dataset=pd.read_csv(\"weatherAUS.csv\")\n",
        "x=dataset.iloc[:,[1,2,3,4,7,8,9,10,11,12,13,14,15,16,17,18,19,20,21]].values\n",
        "y=dataset.iloc[:,-1].values\n"
      ],
      "metadata": {
        "id": "UivuW-FKXlAL"
      },
      "execution_count": 8,
      "outputs": []
    },
    {
      "cell_type": "code",
      "source": [
        "print(x)"
      ],
      "metadata": {
        "id": "owQH86QPXxIg",
        "colab": {
          "base_uri": "https://localhost:8080/"
        },
        "outputId": "d333d048-a196-4848-8e4e-e2872f7fca9a"
      },
      "execution_count": 9,
      "outputs": [
        {
          "output_type": "stream",
          "name": "stdout",
          "text": [
            "[['Albury' 13.4 22.9 ... 16.9 21.8 'No']\n",
            " ['Albury' 7.4 25.1 ... 17.2 24.3 'No']\n",
            " ['Albury' 12.9 25.7 ... 21.0 23.2 'No']\n",
            " ...\n",
            " ['Uluru' 3.6 25.3 ... 10.9 24.5 'No']\n",
            " ['Uluru' 5.4 26.9 ... 12.5 26.1 'No']\n",
            " ['Uluru' 7.8 27.0 ... 15.1 26.0 'No']]\n"
          ]
        }
      ]
    },
    {
      "cell_type": "code",
      "source": [
        "print(y)"
      ],
      "metadata": {
        "id": "fE8mro9-XxMK",
        "colab": {
          "base_uri": "https://localhost:8080/"
        },
        "outputId": "3e51295c-3ffe-4be9-e3a7-2f1ecc5f4db3"
      },
      "execution_count": 10,
      "outputs": [
        {
          "output_type": "stream",
          "name": "stdout",
          "text": [
            "['No' 'No' 'No' ... 'No' 'No' 'No']\n"
          ]
        }
      ]
    },
    {
      "cell_type": "code",
      "source": [
        "y=y.reshape(-1,1)"
      ],
      "metadata": {
        "id": "oIGWwNIWXxOx"
      },
      "execution_count": 11,
      "outputs": []
    },
    {
      "cell_type": "code",
      "source": [
        "print(y)"
      ],
      "metadata": {
        "id": "Z7U9lmI6XxRW",
        "colab": {
          "base_uri": "https://localhost:8080/"
        },
        "outputId": "1c6371d7-cc43-45f8-9a42-f56745709e42"
      },
      "execution_count": 12,
      "outputs": [
        {
          "output_type": "stream",
          "name": "stdout",
          "text": [
            "[['No']\n",
            " ['No']\n",
            " ['No']\n",
            " ...\n",
            " ['No']\n",
            " ['No']\n",
            " ['No']]\n"
          ]
        }
      ]
    },
    {
      "cell_type": "markdown",
      "source": [
        "#Dealing with Invalid Data"
      ],
      "metadata": {
        "id": "LtmHNmyG3stP"
      }
    },
    {
      "cell_type": "code",
      "source": [
        "from sklearn.impute import SimpleImputer\n",
        "imputer=SimpleImputer(missing_values=np.nan,strategy='most_frequent')\n",
        "x=imputer.fit_transform(x)\n",
        "y=imputer.fit_transform(y)"
      ],
      "metadata": {
        "id": "FXSeBnMDXxUe"
      },
      "execution_count": 13,
      "outputs": []
    },
    {
      "cell_type": "code",
      "source": [
        "print(x)"
      ],
      "metadata": {
        "id": "DAU4vTWRXxYH",
        "colab": {
          "base_uri": "https://localhost:8080/"
        },
        "outputId": "451ef940-3088-4d4b-f91d-7452529f0d84"
      },
      "execution_count": 14,
      "outputs": [
        {
          "output_type": "stream",
          "name": "stdout",
          "text": [
            "[['Albury' 13.4 22.9 ... 16.9 21.8 'No']\n",
            " ['Albury' 7.4 25.1 ... 17.2 24.3 'No']\n",
            " ['Albury' 12.9 25.7 ... 21.0 23.2 'No']\n",
            " ...\n",
            " ['Uluru' 3.6 25.3 ... 10.9 24.5 'No']\n",
            " ['Uluru' 5.4 26.9 ... 12.5 26.1 'No']\n",
            " ['Uluru' 7.8 27.0 ... 15.1 26.0 'No']]\n"
          ]
        }
      ]
    },
    {
      "cell_type": "code",
      "source": [
        "print(y)"
      ],
      "metadata": {
        "colab": {
          "base_uri": "https://localhost:8080/"
        },
        "id": "xNf327suZz9k",
        "outputId": "7b90c971-dca2-424c-9edd-1704d9ad6769"
      },
      "execution_count": 15,
      "outputs": [
        {
          "output_type": "stream",
          "name": "stdout",
          "text": [
            "[['No']\n",
            " ['No']\n",
            " ['No']\n",
            " ...\n",
            " ['No']\n",
            " ['No']\n",
            " ['No']]\n"
          ]
        }
      ]
    },
    {
      "cell_type": "markdown",
      "source": [
        "#Encoding Dataset"
      ],
      "metadata": {
        "id": "w8wvYBEzacVy"
      }
    },
    {
      "cell_type": "code",
      "source": [
        "from sklearn.preprocessing import LabelEncoder\n",
        "le1=LabelEncoder()\n",
        "x[:,0]=le1.fit_transform(x[:,0])\n",
        "le2=LabelEncoder()\n",
        "x[:,4]=le2.fit_transform(x[:,4])\n",
        "le3=LabelEncoder()\n",
        "x[:,6]=le3.fit_transform(x[:,6])\n",
        "le4=LabelEncoder()\n",
        "x[:,7]=le4.fit_transform(x[:,7])\n",
        "le5=LabelEncoder()\n",
        "x[:,-1]=le5.fit_transform(x[:,-1])\n",
        "le6=LabelEncoder()\n",
        "y=le6.fit_transform(y)"
      ],
      "metadata": {
        "colab": {
          "base_uri": "https://localhost:8080/"
        },
        "id": "9WPx9qAwagmk",
        "outputId": "4429124e-ae0e-49d0-d03b-79813a0b41b9"
      },
      "execution_count": 16,
      "outputs": [
        {
          "output_type": "stream",
          "name": "stderr",
          "text": [
            "/usr/local/lib/python3.10/dist-packages/sklearn/preprocessing/_label.py:116: DataConversionWarning: A column-vector y was passed when a 1d array was expected. Please change the shape of y to (n_samples, ), for example using ravel().\n",
            "  y = column_or_1d(y, warn=True)\n"
          ]
        }
      ]
    },
    {
      "cell_type": "code",
      "source": [
        "print(x)"
      ],
      "metadata": {
        "colab": {
          "base_uri": "https://localhost:8080/"
        },
        "id": "wIQ4BHd_ame8",
        "outputId": "2325f74a-9d12-4f5a-9c8b-6634baee8a11"
      },
      "execution_count": 17,
      "outputs": [
        {
          "output_type": "stream",
          "name": "stdout",
          "text": [
            "[[2 13.4 22.9 ... 16.9 21.8 0]\n",
            " [2 7.4 25.1 ... 17.2 24.3 0]\n",
            " [2 12.9 25.7 ... 21.0 23.2 0]\n",
            " ...\n",
            " [41 3.6 25.3 ... 10.9 24.5 0]\n",
            " [41 5.4 26.9 ... 12.5 26.1 0]\n",
            " [41 7.8 27.0 ... 15.1 26.0 0]]\n"
          ]
        }
      ]
    },
    {
      "cell_type": "code",
      "source": [
        "print(y)"
      ],
      "metadata": {
        "colab": {
          "base_uri": "https://localhost:8080/"
        },
        "id": "tpRvbenEaukP",
        "outputId": "60365d64-481c-47a5-b2f7-1730ea3f89b9"
      },
      "execution_count": 18,
      "outputs": [
        {
          "output_type": "stream",
          "name": "stdout",
          "text": [
            "[0 0 0 ... 0 0 0]\n"
          ]
        }
      ]
    },
    {
      "cell_type": "markdown",
      "source": [
        "#Feature Scaling\n"
      ],
      "metadata": {
        "id": "hKT3FBnWa-yQ"
      }
    },
    {
      "cell_type": "code",
      "source": [
        "from sklearn.preprocessing import StandardScaler\n",
        "sc=StandardScaler()\n",
        "x=sc.fit_transform(x)\n"
      ],
      "metadata": {
        "id": "1K4yFd-Fa0Xn"
      },
      "execution_count": 19,
      "outputs": []
    },
    {
      "cell_type": "code",
      "source": [
        "print(x)"
      ],
      "metadata": {
        "colab": {
          "base_uri": "https://localhost:8080/"
        },
        "id": "JJyF7yymbKyy",
        "outputId": "c6cc01fc-2ded-472d-e00d-9ca8ff3b0ce0"
      },
      "execution_count": 20,
      "outputs": [
        {
          "output_type": "stream",
          "name": "stdout",
          "text": [
            "[[-1.5270045   0.19169797 -0.044926   ... -0.01353307  0.02110819\n",
            "  -0.53296232]\n",
            " [-1.5270045  -0.74708764  0.26444584 ...  0.03281942  0.38476354\n",
            "  -0.53296232]\n",
            " [-1.5270045   0.11346584  0.34881998 ...  0.61995105  0.22475519\n",
            "  -0.53296232]\n",
            " ...\n",
            " [ 1.21224943 -1.34165186  0.29257055 ... -0.94058301  0.41385597\n",
            "  -0.53296232]\n",
            " [ 1.21224943 -1.06001618  0.51756825 ... -0.69336969  0.64659539\n",
            "  -0.53296232]\n",
            " [ 1.21224943 -0.68450193  0.53163061 ... -0.29164805  0.63204918\n",
            "  -0.53296232]]\n"
          ]
        }
      ]
    },
    {
      "cell_type": "markdown",
      "source": [
        "#splitting dataset into Training dataset and Test set"
      ],
      "metadata": {
        "id": "bbRexg2NcXWa"
      }
    },
    {
      "cell_type": "code",
      "source": [
        "from sklearn.model_selection import train_test_split\n",
        "x_train,x_test,y_train,y_test=train_test_split(x,y,test_size=0.2,random_state=0)"
      ],
      "metadata": {
        "id": "FKXF2XHccPVN"
      },
      "execution_count": 21,
      "outputs": []
    },
    {
      "cell_type": "code",
      "source": [
        "print(x_train)"
      ],
      "metadata": {
        "colab": {
          "base_uri": "https://localhost:8080/"
        },
        "id": "008RMnvzcPQ0",
        "outputId": "d7db9cc1-725a-48b2-864b-7ff4cf3d56bb"
      },
      "execution_count": 22,
      "outputs": [
        {
          "output_type": "stream",
          "name": "stdout",
          "text": [
            "[[ 1.56343583  0.26993011 -0.08711307 ...  0.28003274 -0.18253881\n",
            "  -0.53296232]\n",
            " [-1.10558082  1.59987639  0.86912716 ...  1.45429598  0.85024239\n",
            "   1.87630525]\n",
            " [-1.45676722 -0.38721982  1.82536739 ...  1.77876346  1.94120845\n",
            "  -0.53296232]\n",
            " ...\n",
            " [-1.66747906 -0.04299843 -0.79023088 ... -0.38435305 -0.66256387\n",
            "   1.87630525]\n",
            " [ 0.50987663 -0.70014836  0.39100704 ... -0.39980388  0.42840218\n",
            "  -0.53296232]\n",
            " [ 1.63367311  1.22436215  1.16443664 ...  1.40794349  0.16657033\n",
            "  -0.53296232]]\n"
          ]
        }
      ]
    },
    {
      "cell_type": "code",
      "source": [
        "print(y_train)"
      ],
      "metadata": {
        "colab": {
          "base_uri": "https://localhost:8080/"
        },
        "id": "tdvfH3XncPNb",
        "outputId": "fae4c472-b5da-44ec-db14-6f0c72890496"
      },
      "execution_count": 23,
      "outputs": [
        {
          "output_type": "stream",
          "name": "stdout",
          "text": [
            "[0 0 0 ... 0 0 1]\n"
          ]
        }
      ]
    },
    {
      "cell_type": "markdown",
      "source": [
        "#Training Model"
      ],
      "metadata": {
        "id": "x47AKNYUc7wm"
      }
    },
    {
      "cell_type": "code",
      "source": [
        "from sklearn.ensemble import RandomForestClassifier\n",
        "classifier= RandomForestClassifier(n_estimators=150,random_state=0)\n",
        "classifier.fit(x_train,y_train)\n"
      ],
      "metadata": {
        "colab": {
          "base_uri": "https://localhost:8080/",
          "height": 74
        },
        "id": "XppVdtggcPHt",
        "outputId": "93447c02-3433-4a8b-d852-851235e58049"
      },
      "execution_count": 24,
      "outputs": [
        {
          "output_type": "execute_result",
          "data": {
            "text/plain": [
              "RandomForestClassifier(n_estimators=150, random_state=0)"
            ],
            "text/html": [
              "<style>#sk-container-id-1 {color: black;background-color: white;}#sk-container-id-1 pre{padding: 0;}#sk-container-id-1 div.sk-toggleable {background-color: white;}#sk-container-id-1 label.sk-toggleable__label {cursor: pointer;display: block;width: 100%;margin-bottom: 0;padding: 0.3em;box-sizing: border-box;text-align: center;}#sk-container-id-1 label.sk-toggleable__label-arrow:before {content: \"▸\";float: left;margin-right: 0.25em;color: #696969;}#sk-container-id-1 label.sk-toggleable__label-arrow:hover:before {color: black;}#sk-container-id-1 div.sk-estimator:hover label.sk-toggleable__label-arrow:before {color: black;}#sk-container-id-1 div.sk-toggleable__content {max-height: 0;max-width: 0;overflow: hidden;text-align: left;background-color: #f0f8ff;}#sk-container-id-1 div.sk-toggleable__content pre {margin: 0.2em;color: black;border-radius: 0.25em;background-color: #f0f8ff;}#sk-container-id-1 input.sk-toggleable__control:checked~div.sk-toggleable__content {max-height: 200px;max-width: 100%;overflow: auto;}#sk-container-id-1 input.sk-toggleable__control:checked~label.sk-toggleable__label-arrow:before {content: \"▾\";}#sk-container-id-1 div.sk-estimator input.sk-toggleable__control:checked~label.sk-toggleable__label {background-color: #d4ebff;}#sk-container-id-1 div.sk-label input.sk-toggleable__control:checked~label.sk-toggleable__label {background-color: #d4ebff;}#sk-container-id-1 input.sk-hidden--visually {border: 0;clip: rect(1px 1px 1px 1px);clip: rect(1px, 1px, 1px, 1px);height: 1px;margin: -1px;overflow: hidden;padding: 0;position: absolute;width: 1px;}#sk-container-id-1 div.sk-estimator {font-family: monospace;background-color: #f0f8ff;border: 1px dotted black;border-radius: 0.25em;box-sizing: border-box;margin-bottom: 0.5em;}#sk-container-id-1 div.sk-estimator:hover {background-color: #d4ebff;}#sk-container-id-1 div.sk-parallel-item::after {content: \"\";width: 100%;border-bottom: 1px solid gray;flex-grow: 1;}#sk-container-id-1 div.sk-label:hover label.sk-toggleable__label {background-color: #d4ebff;}#sk-container-id-1 div.sk-serial::before {content: \"\";position: absolute;border-left: 1px solid gray;box-sizing: border-box;top: 0;bottom: 0;left: 50%;z-index: 0;}#sk-container-id-1 div.sk-serial {display: flex;flex-direction: column;align-items: center;background-color: white;padding-right: 0.2em;padding-left: 0.2em;position: relative;}#sk-container-id-1 div.sk-item {position: relative;z-index: 1;}#sk-container-id-1 div.sk-parallel {display: flex;align-items: stretch;justify-content: center;background-color: white;position: relative;}#sk-container-id-1 div.sk-item::before, #sk-container-id-1 div.sk-parallel-item::before {content: \"\";position: absolute;border-left: 1px solid gray;box-sizing: border-box;top: 0;bottom: 0;left: 50%;z-index: -1;}#sk-container-id-1 div.sk-parallel-item {display: flex;flex-direction: column;z-index: 1;position: relative;background-color: white;}#sk-container-id-1 div.sk-parallel-item:first-child::after {align-self: flex-end;width: 50%;}#sk-container-id-1 div.sk-parallel-item:last-child::after {align-self: flex-start;width: 50%;}#sk-container-id-1 div.sk-parallel-item:only-child::after {width: 0;}#sk-container-id-1 div.sk-dashed-wrapped {border: 1px dashed gray;margin: 0 0.4em 0.5em 0.4em;box-sizing: border-box;padding-bottom: 0.4em;background-color: white;}#sk-container-id-1 div.sk-label label {font-family: monospace;font-weight: bold;display: inline-block;line-height: 1.2em;}#sk-container-id-1 div.sk-label-container {text-align: center;}#sk-container-id-1 div.sk-container {/* jupyter's `normalize.less` sets `[hidden] { display: none; }` but bootstrap.min.css set `[hidden] { display: none !important; }` so we also need the `!important` here to be able to override the default hidden behavior on the sphinx rendered scikit-learn.org. See: https://github.com/scikit-learn/scikit-learn/issues/21755 */display: inline-block !important;position: relative;}#sk-container-id-1 div.sk-text-repr-fallback {display: none;}</style><div id=\"sk-container-id-1\" class=\"sk-top-container\"><div class=\"sk-text-repr-fallback\"><pre>RandomForestClassifier(n_estimators=150, random_state=0)</pre><b>In a Jupyter environment, please rerun this cell to show the HTML representation or trust the notebook. <br />On GitHub, the HTML representation is unable to render, please try loading this page with nbviewer.org.</b></div><div class=\"sk-container\" hidden><div class=\"sk-item\"><div class=\"sk-estimator sk-toggleable\"><input class=\"sk-toggleable__control sk-hidden--visually\" id=\"sk-estimator-id-1\" type=\"checkbox\" checked><label for=\"sk-estimator-id-1\" class=\"sk-toggleable__label sk-toggleable__label-arrow\">RandomForestClassifier</label><div class=\"sk-toggleable__content\"><pre>RandomForestClassifier(n_estimators=150, random_state=0)</pre></div></div></div></div></div>"
            ]
          },
          "metadata": {},
          "execution_count": 24
        }
      ]
    },
    {
      "cell_type": "code",
      "source": [
        "classifier.score(x_train,y_train)"
      ],
      "metadata": {
        "colab": {
          "base_uri": "https://localhost:8080/"
        },
        "id": "wQpKrZs6cO5g",
        "outputId": "135ae509-4759-4bed-ce46-c581af64307b"
      },
      "execution_count": 25,
      "outputs": [
        {
          "output_type": "execute_result",
          "data": {
            "text/plain": [
              "0.9999296728027146"
            ]
          },
          "metadata": {},
          "execution_count": 25
        }
      ]
    },
    {
      "cell_type": "code",
      "source": [
        "print(y_test)"
      ],
      "metadata": {
        "colab": {
          "base_uri": "https://localhost:8080/"
        },
        "id": "Ykna1sFEdNfR",
        "outputId": "8aff44b4-7d77-46b5-a273-d30095b8f5b4"
      },
      "execution_count": 26,
      "outputs": [
        {
          "output_type": "stream",
          "name": "stdout",
          "text": [
            "[0 0 0 ... 0 0 1]\n"
          ]
        }
      ]
    },
    {
      "cell_type": "code",
      "source": [
        "Y_pred=classifier.predict(x_test)"
      ],
      "metadata": {
        "id": "L-v1H_ppdSb4"
      },
      "execution_count": 27,
      "outputs": []
    },
    {
      "cell_type": "code",
      "source": [
        "print(Y_pred)"
      ],
      "metadata": {
        "colab": {
          "base_uri": "https://localhost:8080/"
        },
        "id": "ELdKNj41dgcm",
        "outputId": "35864e72-809d-41be-8570-76ed24e84f37"
      },
      "execution_count": 28,
      "outputs": [
        {
          "output_type": "stream",
          "name": "stdout",
          "text": [
            "[0 0 0 ... 0 0 1]\n"
          ]
        }
      ]
    },
    {
      "cell_type": "code",
      "source": [
        "Y_pred=le6.inverse_transform(Y_pred)"
      ],
      "metadata": {
        "id": "0TccR9wndnI8"
      },
      "execution_count": 29,
      "outputs": []
    },
    {
      "cell_type": "code",
      "source": [
        "print(Y_pred)"
      ],
      "metadata": {
        "colab": {
          "base_uri": "https://localhost:8080/"
        },
        "id": "HHycDTXkdxWg",
        "outputId": "20918ecb-bbec-44e5-81bd-89082d5c9b1f"
      },
      "execution_count": 30,
      "outputs": [
        {
          "output_type": "stream",
          "name": "stdout",
          "text": [
            "['No' 'No' 'No' ... 'No' 'No' 'Yes']\n"
          ]
        }
      ]
    },
    {
      "cell_type": "code",
      "source": [
        "print(y_test)"
      ],
      "metadata": {
        "colab": {
          "base_uri": "https://localhost:8080/"
        },
        "id": "rtyVzn8MeERA",
        "outputId": "b522715a-11b2-4824-d006-f8f047f7749c"
      },
      "execution_count": 31,
      "outputs": [
        {
          "output_type": "stream",
          "name": "stdout",
          "text": [
            "[0 0 0 ... 0 0 1]\n"
          ]
        }
      ]
    },
    {
      "cell_type": "code",
      "source": [
        "y_test=le6.inverse_transform(y_test)"
      ],
      "metadata": {
        "id": "aP6wyJV723hG"
      },
      "execution_count": 32,
      "outputs": []
    },
    {
      "cell_type": "code",
      "source": [
        "print(y_test)"
      ],
      "metadata": {
        "colab": {
          "base_uri": "https://localhost:8080/"
        },
        "id": "tXZkM92MeP5L",
        "outputId": "e27fee55-0258-49ee-bb35-31b4fa99c250"
      },
      "execution_count": 33,
      "outputs": [
        {
          "output_type": "stream",
          "name": "stdout",
          "text": [
            "['No' 'No' 'No' ... 'No' 'No' 'Yes']\n"
          ]
        }
      ]
    },
    {
      "cell_type": "code",
      "source": [
        "y_test=y_test.reshape(-1,1)\n",
        "Y_pred=Y_pred.reshape(-1,1)"
      ],
      "metadata": {
        "id": "f1acJbCX1-gn"
      },
      "execution_count": 34,
      "outputs": []
    },
    {
      "cell_type": "code",
      "source": [
        "df = np.concatenate((y_test,Y_pred),axis=1)\n",
        "dataframe = pd.DataFrame(df,columns=['Rain on Tommorrow','Predition of Rain'])"
      ],
      "metadata": {
        "id": "3WIXehB-2OG_"
      },
      "execution_count": 35,
      "outputs": []
    },
    {
      "cell_type": "code",
      "source": [
        "print(dataframe)"
      ],
      "metadata": {
        "colab": {
          "base_uri": "https://localhost:8080/"
        },
        "id": "SaRN3e6n2YI5",
        "outputId": "7d680ff0-fd9f-4e44-ebbf-b4b3b13bddbd"
      },
      "execution_count": 36,
      "outputs": [
        {
          "output_type": "stream",
          "name": "stdout",
          "text": [
            "      Rain on Tommorrow Predition of Rain\n",
            "0                    No                No\n",
            "1                    No                No\n",
            "2                    No                No\n",
            "3                    No                No\n",
            "4                    No                No\n",
            "...                 ...               ...\n",
            "28434                No                No\n",
            "28435                No                No\n",
            "28436                No                No\n",
            "28437                No                No\n",
            "28438               Yes               Yes\n",
            "\n",
            "[28439 rows x 2 columns]\n"
          ]
        }
      ]
    },
    {
      "cell_type": "code",
      "source": [
        "dataframe.to_csv('prediction.csv')"
      ],
      "metadata": {
        "id": "Aqs3LQDi43s8"
      },
      "execution_count": 38,
      "outputs": []
    },
    {
      "cell_type": "code",
      "source": [
        "from sklearn.metrics import accuracy_score\n",
        "accuracy_score(y_test,Y_pred)"
      ],
      "metadata": {
        "colab": {
          "base_uri": "https://localhost:8080/"
        },
        "id": "m4Q4wBTz4_7t",
        "outputId": "a8c356f0-8a61-44f1-8507-cca73993ccc0"
      },
      "execution_count": 39,
      "outputs": [
        {
          "output_type": "execute_result",
          "data": {
            "text/plain": [
              "0.8564998769295685"
            ]
          },
          "metadata": {},
          "execution_count": 39
        }
      ]
    },
    {
      "cell_type": "code",
      "source": [
        "dataframe.to_csv('prediction.csv')\n"
      ],
      "metadata": {
        "id": "DJqdtN4o5Buu"
      },
      "execution_count": 40,
      "outputs": []
    }
  ],
  "metadata": {
    "colab": {
      "provenance": [],
      "include_colab_link": true
    },
    "kernelspec": {
      "display_name": "Python 3",
      "name": "python3"
    }
  },
  "nbformat": 4,
  "nbformat_minor": 0
}